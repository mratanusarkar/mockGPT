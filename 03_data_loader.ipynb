{
  "nbformat": 4,
  "nbformat_minor": 0,
  "metadata": {
    "colab": {
      "provenance": [],
      "authorship_tag": "ABX9TyPP7z/UydZoLRflCzEiSWml"
    },
    "kernelspec": {
      "name": "python3",
      "display_name": "Python 3"
    },
    "language_info": {
      "name": "python"
    }
  },
  "cells": [
    {
      "cell_type": "markdown",
      "source": [
        "# Importing code from the previous notebook"
      ],
      "metadata": {
        "id": "ysAL2bdU-wOy"
      }
    },
    {
      "cell_type": "code",
      "source": [
        "import torch"
      ],
      "metadata": {
        "id": "ED82-HRc8yQW"
      },
      "execution_count": 1,
      "outputs": []
    },
    {
      "cell_type": "code",
      "source": [
        "# importing code from the previous notebook"
      ],
      "metadata": {
        "id": "zyyX4_Us9Pgy"
      },
      "execution_count": 2,
      "outputs": []
    },
    {
      "cell_type": "code",
      "execution_count": 3,
      "metadata": {
        "id": "31_yc-Yj8P5X"
      },
      "outputs": [],
      "source": [
        "# read the input data file\n",
        "with open('raw-text-data.txt', 'r', encoding='utf-8') as f:\n",
        "    text_data = f.read()\n",
        "\n",
        "# getting the unique chars and building vocab for the input text data\n",
        "char_vocab = sorted(list(set(text_data)))\n",
        "vocab_size = len(char_vocab)\n",
        "\n",
        "# creating our simple encoder and decoder\n",
        "c2i = { ch:i for i,ch in enumerate(char_vocab) }\n",
        "i2c = { i:ch for i,ch in enumerate(char_vocab) }\n",
        "encode = lambda txt_str: [c2i[ch] for ch in txt_str]\n",
        "decode = lambda num_vect: ''.join([i2c[i] for i in num_vect])\n",
        "\n",
        "# converting our text data into encoded PyTorch tensors\n",
        "data = torch.tensor(encode(text_data), dtype=torch.long)"
      ]
    },
    {
      "cell_type": "code",
      "source": [
        "# let's verify our data by checking the shape and the first 100 chars\n",
        "print(data.shape, data.dtype)\n",
        "print(data[:100])"
      ],
      "metadata": {
        "colab": {
          "base_uri": "https://localhost:8080/"
        },
        "id": "Oit_FRPw-Tej",
        "outputId": "ca3739d8-37b0-4f5d-891d-a9081504acab"
      },
      "execution_count": 4,
      "outputs": [
        {
          "output_type": "stream",
          "name": "stdout",
          "text": [
            "torch.Size([15795757]) torch.int64\n",
            "tensor([54, 74, 75, 85,  2, 82, 67, 73, 71,  2, 67, 78, 78, 81, 89, 85,  2, 87,\n",
            "        85, 71, 84, 85,  2, 86, 81,  2, 85, 71, 67, 84, 69, 74,  2, 79, 87, 78,\n",
            "        86, 75, 82, 78, 71,  2, 85, 81, 87, 84, 69, 71, 85,  2, 72, 81, 84,  2,\n",
            "        67,  2, 68, 81, 81, 77,  2, 73, 75, 88, 71, 80,  2, 67,  2, 19, 18, 15,\n",
            "         2, 81, 84,  2, 19, 21, 15, 70, 75, 73, 75, 86,  2, 43, 80, 86, 71, 84,\n",
            "        80, 67, 86, 75, 81, 80, 67, 78,  2, 53])\n"
          ]
        }
      ]
    },
    {
      "cell_type": "code",
      "source": [],
      "metadata": {
        "id": "oS1-7gLJ-kQ9"
      },
      "execution_count": 4,
      "outputs": []
    },
    {
      "cell_type": "markdown",
      "source": [
        "# Breaking down the dataset into workable chunks"
      ],
      "metadata": {
        "id": "6UsM7jSC_HDw"
      }
    },
    {
      "cell_type": "code",
      "source": [
        "# let's split up the data into train and validation sets\n",
        "n_split = int(0.9 * len(data))\n",
        "train_data = data[:n_split]\n",
        "val_data = data[n_split:]"
      ],
      "metadata": {
        "id": "N8v7LZDE_VW7"
      },
      "execution_count": 5,
      "outputs": []
    },
    {
      "cell_type": "code",
      "source": [
        "# Note: ensure the data is well mixed and hetrogenous incase of multiple source\n",
        "# TODO: in previous notebook, to mix-up the raw data, line wise, before encoding"
      ],
      "metadata": {
        "id": "lucKoWVLYI-U"
      },
      "execution_count": 6,
      "outputs": []
    },
    {
      "cell_type": "code",
      "source": [
        "# now let's break it into chunks\n",
        "block_size = 8\n",
        "\n",
        "# we will have multiple training examples each chunk,\n",
        "# precisely 'block_size' examples per 'block_size + 1' chars\n",
        "train_data[:block_size + 1]"
      ],
      "metadata": {
        "colab": {
          "base_uri": "https://localhost:8080/"
        },
        "id": "zRHuJJclYeo9",
        "outputId": "4994d557-5d29-4cf5-c0ea-7df3efc99c7e"
      },
      "execution_count": 7,
      "outputs": [
        {
          "output_type": "execute_result",
          "data": {
            "text/plain": [
              "tensor([54, 74, 75, 85,  2, 82, 67, 73, 71])"
            ]
          },
          "metadata": {},
          "execution_count": 7
        }
      ]
    },
    {
      "cell_type": "code",
      "source": [
        "# let's see the above in action with a sample example\n",
        "sample_x = train_data[:block_size]\n",
        "sample_y = train_data[1:block_size + 1]\n",
        "for t in range(block_size):\n",
        "    context = sample_x[:t + 1]\n",
        "    target = sample_y[t]\n",
        "    print(f\"-> when input is: {context}\")\n",
        "    print(f\"   the target is: {target}\")"
      ],
      "metadata": {
        "colab": {
          "base_uri": "https://localhost:8080/"
        },
        "id": "xB-6skIVaRhm",
        "outputId": "0cbc5c0d-05e7-49a7-b2b6-b3679459744d"
      },
      "execution_count": 9,
      "outputs": [
        {
          "output_type": "stream",
          "name": "stdout",
          "text": [
            "-> when input is: tensor([54])\n",
            "   the target is: 74\n",
            "-> when input is: tensor([54, 74])\n",
            "   the target is: 75\n",
            "-> when input is: tensor([54, 74, 75])\n",
            "   the target is: 85\n",
            "-> when input is: tensor([54, 74, 75, 85])\n",
            "   the target is: 2\n",
            "-> when input is: tensor([54, 74, 75, 85,  2])\n",
            "   the target is: 82\n",
            "-> when input is: tensor([54, 74, 75, 85,  2, 82])\n",
            "   the target is: 67\n",
            "-> when input is: tensor([54, 74, 75, 85,  2, 82, 67])\n",
            "   the target is: 73\n",
            "-> when input is: tensor([54, 74, 75, 85,  2, 82, 67, 73])\n",
            "   the target is: 71\n"
          ]
        }
      ]
    },
    {
      "cell_type": "code",
      "source": [
        "# in this manner, \n",
        "# the model will be able to generate/predict with as little as 1 char of context\n",
        "# upto 'block_size' number of characters of input,\n",
        "# after which it will start truncating"
      ],
      "metadata": {
        "id": "h3g_I3B_bk9Z"
      },
      "execution_count": 10,
      "outputs": []
    },
    {
      "cell_type": "code",
      "source": [
        "# now breaking down into batches (help with parallel processing)\n",
        "# we will have dataset broken down into independent multiple batches\n",
        "# and each of the batches will contain multiple chunks as above\n",
        "\n",
        "torch.manual_seed(2023)\n",
        "batch_size = 4  # how many independent sequences will we process in parallel?\n",
        "block_size = 8  # what is the maximum context length for prediction?\n",
        "\n",
        "def get_batch(split):\n",
        "    # generate a small batch of data of inputs x and targets y\n",
        "    data = train_data if split == 'train' else val_data\n",
        "    ix = torch.randint(len(data) - block_size, (batch_size, ))\n",
        "    x = torch.stack([data[i:i+block_size] for i in ix])\n",
        "    y = torch.stack([data[i+1:i+block_size+1] for i in ix])\n",
        "    return x, y\n",
        "\n",
        "xb, yb = get_batch('train')\n",
        "print('inputs:')\n",
        "print(xb.shape)\n",
        "print(xb)\n",
        "print('targets:')\n",
        "print(yb.shape)\n",
        "print(yb)"
      ],
      "metadata": {
        "colab": {
          "base_uri": "https://localhost:8080/"
        },
        "id": "YrcoebgqdJRp",
        "outputId": "f27a3dba-4c5b-40de-f78f-c312143e8a82"
      },
      "execution_count": 11,
      "outputs": [
        {
          "output_type": "stream",
          "name": "stdout",
          "text": [
            "inputs:\n",
            "torch.Size([4, 8])\n",
            "tensor([[85, 81, 69, 75, 71, 86, 91, 14],\n",
            "        [75, 80,  2, 19, 24, 25, 22,  2],\n",
            "        [ 2,  4, 35, 69, 74, 91,  2, 36],\n",
            "        [49, 53, 48,  2, 48, 71, 89, 85]])\n",
            "targets:\n",
            "torch.Size([4, 8])\n",
            "tensor([[81, 69, 75, 71, 86, 91, 14,  2],\n",
            "        [80,  2, 19, 24, 25, 22,  2, 10],\n",
            "        [ 4, 35, 69, 74, 91,  2, 36, 84],\n",
            "        [53, 48,  2, 48, 71, 89, 85,  2]])\n"
          ]
        }
      ]
    },
    {
      "cell_type": "code",
      "source": [
        "for b in range(batch_size):\n",
        "    for t in range(block_size):\n",
        "        context = xb[b, :t+1]\n",
        "        target = yb[b, t]\n",
        "        print(f\"-> when input is: {context.tolist()}\")\n",
        "        print(f\"   the target is: {target}\")"
      ],
      "metadata": {
        "colab": {
          "base_uri": "https://localhost:8080/"
        },
        "id": "4tF3EBCXgBxA",
        "outputId": "e6c65d8f-b536-4801-d3ff-f6adb2b3dc93"
      },
      "execution_count": 12,
      "outputs": [
        {
          "output_type": "stream",
          "name": "stdout",
          "text": [
            "-> when input is: [85]\n",
            "   the target is: 81\n",
            "-> when input is: [85, 81]\n",
            "   the target is: 69\n",
            "-> when input is: [85, 81, 69]\n",
            "   the target is: 75\n",
            "-> when input is: [85, 81, 69, 75]\n",
            "   the target is: 71\n",
            "-> when input is: [85, 81, 69, 75, 71]\n",
            "   the target is: 86\n",
            "-> when input is: [85, 81, 69, 75, 71, 86]\n",
            "   the target is: 91\n",
            "-> when input is: [85, 81, 69, 75, 71, 86, 91]\n",
            "   the target is: 14\n",
            "-> when input is: [85, 81, 69, 75, 71, 86, 91, 14]\n",
            "   the target is: 2\n",
            "-> when input is: [75]\n",
            "   the target is: 80\n",
            "-> when input is: [75, 80]\n",
            "   the target is: 2\n",
            "-> when input is: [75, 80, 2]\n",
            "   the target is: 19\n",
            "-> when input is: [75, 80, 2, 19]\n",
            "   the target is: 24\n",
            "-> when input is: [75, 80, 2, 19, 24]\n",
            "   the target is: 25\n",
            "-> when input is: [75, 80, 2, 19, 24, 25]\n",
            "   the target is: 22\n",
            "-> when input is: [75, 80, 2, 19, 24, 25, 22]\n",
            "   the target is: 2\n",
            "-> when input is: [75, 80, 2, 19, 24, 25, 22, 2]\n",
            "   the target is: 10\n",
            "-> when input is: [2]\n",
            "   the target is: 4\n",
            "-> when input is: [2, 4]\n",
            "   the target is: 35\n",
            "-> when input is: [2, 4, 35]\n",
            "   the target is: 69\n",
            "-> when input is: [2, 4, 35, 69]\n",
            "   the target is: 74\n",
            "-> when input is: [2, 4, 35, 69, 74]\n",
            "   the target is: 91\n",
            "-> when input is: [2, 4, 35, 69, 74, 91]\n",
            "   the target is: 2\n",
            "-> when input is: [2, 4, 35, 69, 74, 91, 2]\n",
            "   the target is: 36\n",
            "-> when input is: [2, 4, 35, 69, 74, 91, 2, 36]\n",
            "   the target is: 84\n",
            "-> when input is: [49]\n",
            "   the target is: 53\n",
            "-> when input is: [49, 53]\n",
            "   the target is: 48\n",
            "-> when input is: [49, 53, 48]\n",
            "   the target is: 2\n",
            "-> when input is: [49, 53, 48, 2]\n",
            "   the target is: 48\n",
            "-> when input is: [49, 53, 48, 2, 48]\n",
            "   the target is: 71\n",
            "-> when input is: [49, 53, 48, 2, 48, 71]\n",
            "   the target is: 89\n",
            "-> when input is: [49, 53, 48, 2, 48, 71, 89]\n",
            "   the target is: 85\n",
            "-> when input is: [49, 53, 48, 2, 48, 71, 89, 85]\n",
            "   the target is: 2\n"
          ]
        }
      ]
    },
    {
      "cell_type": "code",
      "source": [],
      "metadata": {
        "id": "6OEXgsScgk_5"
      },
      "execution_count": null,
      "outputs": []
    }
  ]
}