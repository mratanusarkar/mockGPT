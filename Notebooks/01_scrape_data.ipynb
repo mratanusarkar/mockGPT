{
  "nbformat": 4,
  "nbformat_minor": 0,
  "metadata": {
    "colab": {
      "provenance": [],
      "authorship_tag": "ABX9TyPhOJwLC0AabuUan4/OFrJN"
    },
    "kernelspec": {
      "name": "python3",
      "display_name": "Python 3"
    },
    "language_info": {
      "name": "python"
    },
    "widgets": {
      "application/vnd.jupyter.widget-state+json": {
        "7e98b2c5b40041d489f5728ca7aea995": {
          "model_module": "@jupyter-widgets/controls",
          "model_name": "HBoxModel",
          "model_module_version": "1.5.0",
          "state": {
            "_dom_classes": [],
            "_model_module": "@jupyter-widgets/controls",
            "_model_module_version": "1.5.0",
            "_model_name": "HBoxModel",
            "_view_count": null,
            "_view_module": "@jupyter-widgets/controls",
            "_view_module_version": "1.5.0",
            "_view_name": "HBoxView",
            "box_style": "",
            "children": [
              "IPY_MODEL_66a6a1ec01744f5fa3c598d752b656c6",
              "IPY_MODEL_50aff824666a4d0fa8d253918923a6b9",
              "IPY_MODEL_4212c2df7ff64313a6ca9c95d3b44a6f"
            ],
            "layout": "IPY_MODEL_0903b561c01743baa3ce5b998a0fcd45"
          }
        },
        "66a6a1ec01744f5fa3c598d752b656c6": {
          "model_module": "@jupyter-widgets/controls",
          "model_name": "HTMLModel",
          "model_module_version": "1.5.0",
          "state": {
            "_dom_classes": [],
            "_model_module": "@jupyter-widgets/controls",
            "_model_module_version": "1.5.0",
            "_model_name": "HTMLModel",
            "_view_count": null,
            "_view_module": "@jupyter-widgets/controls",
            "_view_module_version": "1.5.0",
            "_view_name": "HTMLView",
            "description": "",
            "description_tooltip": null,
            "layout": "IPY_MODEL_7963835f424046e3a219d1dced618929",
            "placeholder": "​",
            "style": "IPY_MODEL_e58bada113be481685060dd3068831c9",
            "value": "100%"
          }
        },
        "50aff824666a4d0fa8d253918923a6b9": {
          "model_module": "@jupyter-widgets/controls",
          "model_name": "FloatProgressModel",
          "model_module_version": "1.5.0",
          "state": {
            "_dom_classes": [],
            "_model_module": "@jupyter-widgets/controls",
            "_model_module_version": "1.5.0",
            "_model_name": "FloatProgressModel",
            "_view_count": null,
            "_view_module": "@jupyter-widgets/controls",
            "_view_module_version": "1.5.0",
            "_view_name": "ProgressView",
            "bar_style": "success",
            "description": "",
            "description_tooltip": null,
            "layout": "IPY_MODEL_522809f5924d4c39b45b58c9e5134b5c",
            "max": 1000,
            "min": 0,
            "orientation": "horizontal",
            "style": "IPY_MODEL_759b6b0a2bf74fee94bb4d76de8dbb62",
            "value": 1000
          }
        },
        "4212c2df7ff64313a6ca9c95d3b44a6f": {
          "model_module": "@jupyter-widgets/controls",
          "model_name": "HTMLModel",
          "model_module_version": "1.5.0",
          "state": {
            "_dom_classes": [],
            "_model_module": "@jupyter-widgets/controls",
            "_model_module_version": "1.5.0",
            "_model_name": "HTMLModel",
            "_view_count": null,
            "_view_module": "@jupyter-widgets/controls",
            "_view_module_version": "1.5.0",
            "_view_name": "HTMLView",
            "description": "",
            "description_tooltip": null,
            "layout": "IPY_MODEL_bf3b28c926f04649b73c6c3ee70c187a",
            "placeholder": "​",
            "style": "IPY_MODEL_b3436376cdec4e04b101731fc35d75a0",
            "value": " 1000/1000 [03:42&lt;00:00,  4.09it/s]"
          }
        },
        "0903b561c01743baa3ce5b998a0fcd45": {
          "model_module": "@jupyter-widgets/base",
          "model_name": "LayoutModel",
          "model_module_version": "1.2.0",
          "state": {
            "_model_module": "@jupyter-widgets/base",
            "_model_module_version": "1.2.0",
            "_model_name": "LayoutModel",
            "_view_count": null,
            "_view_module": "@jupyter-widgets/base",
            "_view_module_version": "1.2.0",
            "_view_name": "LayoutView",
            "align_content": null,
            "align_items": null,
            "align_self": null,
            "border": null,
            "bottom": null,
            "display": null,
            "flex": null,
            "flex_flow": null,
            "grid_area": null,
            "grid_auto_columns": null,
            "grid_auto_flow": null,
            "grid_auto_rows": null,
            "grid_column": null,
            "grid_gap": null,
            "grid_row": null,
            "grid_template_areas": null,
            "grid_template_columns": null,
            "grid_template_rows": null,
            "height": null,
            "justify_content": null,
            "justify_items": null,
            "left": null,
            "margin": null,
            "max_height": null,
            "max_width": null,
            "min_height": null,
            "min_width": null,
            "object_fit": null,
            "object_position": null,
            "order": null,
            "overflow": null,
            "overflow_x": null,
            "overflow_y": null,
            "padding": null,
            "right": null,
            "top": null,
            "visibility": null,
            "width": null
          }
        },
        "7963835f424046e3a219d1dced618929": {
          "model_module": "@jupyter-widgets/base",
          "model_name": "LayoutModel",
          "model_module_version": "1.2.0",
          "state": {
            "_model_module": "@jupyter-widgets/base",
            "_model_module_version": "1.2.0",
            "_model_name": "LayoutModel",
            "_view_count": null,
            "_view_module": "@jupyter-widgets/base",
            "_view_module_version": "1.2.0",
            "_view_name": "LayoutView",
            "align_content": null,
            "align_items": null,
            "align_self": null,
            "border": null,
            "bottom": null,
            "display": null,
            "flex": null,
            "flex_flow": null,
            "grid_area": null,
            "grid_auto_columns": null,
            "grid_auto_flow": null,
            "grid_auto_rows": null,
            "grid_column": null,
            "grid_gap": null,
            "grid_row": null,
            "grid_template_areas": null,
            "grid_template_columns": null,
            "grid_template_rows": null,
            "height": null,
            "justify_content": null,
            "justify_items": null,
            "left": null,
            "margin": null,
            "max_height": null,
            "max_width": null,
            "min_height": null,
            "min_width": null,
            "object_fit": null,
            "object_position": null,
            "order": null,
            "overflow": null,
            "overflow_x": null,
            "overflow_y": null,
            "padding": null,
            "right": null,
            "top": null,
            "visibility": null,
            "width": null
          }
        },
        "e58bada113be481685060dd3068831c9": {
          "model_module": "@jupyter-widgets/controls",
          "model_name": "DescriptionStyleModel",
          "model_module_version": "1.5.0",
          "state": {
            "_model_module": "@jupyter-widgets/controls",
            "_model_module_version": "1.5.0",
            "_model_name": "DescriptionStyleModel",
            "_view_count": null,
            "_view_module": "@jupyter-widgets/base",
            "_view_module_version": "1.2.0",
            "_view_name": "StyleView",
            "description_width": ""
          }
        },
        "522809f5924d4c39b45b58c9e5134b5c": {
          "model_module": "@jupyter-widgets/base",
          "model_name": "LayoutModel",
          "model_module_version": "1.2.0",
          "state": {
            "_model_module": "@jupyter-widgets/base",
            "_model_module_version": "1.2.0",
            "_model_name": "LayoutModel",
            "_view_count": null,
            "_view_module": "@jupyter-widgets/base",
            "_view_module_version": "1.2.0",
            "_view_name": "LayoutView",
            "align_content": null,
            "align_items": null,
            "align_self": null,
            "border": null,
            "bottom": null,
            "display": null,
            "flex": null,
            "flex_flow": null,
            "grid_area": null,
            "grid_auto_columns": null,
            "grid_auto_flow": null,
            "grid_auto_rows": null,
            "grid_column": null,
            "grid_gap": null,
            "grid_row": null,
            "grid_template_areas": null,
            "grid_template_columns": null,
            "grid_template_rows": null,
            "height": null,
            "justify_content": null,
            "justify_items": null,
            "left": null,
            "margin": null,
            "max_height": null,
            "max_width": null,
            "min_height": null,
            "min_width": null,
            "object_fit": null,
            "object_position": null,
            "order": null,
            "overflow": null,
            "overflow_x": null,
            "overflow_y": null,
            "padding": null,
            "right": null,
            "top": null,
            "visibility": null,
            "width": null
          }
        },
        "759b6b0a2bf74fee94bb4d76de8dbb62": {
          "model_module": "@jupyter-widgets/controls",
          "model_name": "ProgressStyleModel",
          "model_module_version": "1.5.0",
          "state": {
            "_model_module": "@jupyter-widgets/controls",
            "_model_module_version": "1.5.0",
            "_model_name": "ProgressStyleModel",
            "_view_count": null,
            "_view_module": "@jupyter-widgets/base",
            "_view_module_version": "1.2.0",
            "_view_name": "StyleView",
            "bar_color": null,
            "description_width": ""
          }
        },
        "bf3b28c926f04649b73c6c3ee70c187a": {
          "model_module": "@jupyter-widgets/base",
          "model_name": "LayoutModel",
          "model_module_version": "1.2.0",
          "state": {
            "_model_module": "@jupyter-widgets/base",
            "_model_module_version": "1.2.0",
            "_model_name": "LayoutModel",
            "_view_count": null,
            "_view_module": "@jupyter-widgets/base",
            "_view_module_version": "1.2.0",
            "_view_name": "LayoutView",
            "align_content": null,
            "align_items": null,
            "align_self": null,
            "border": null,
            "bottom": null,
            "display": null,
            "flex": null,
            "flex_flow": null,
            "grid_area": null,
            "grid_auto_columns": null,
            "grid_auto_flow": null,
            "grid_auto_rows": null,
            "grid_column": null,
            "grid_gap": null,
            "grid_row": null,
            "grid_template_areas": null,
            "grid_template_columns": null,
            "grid_template_rows": null,
            "height": null,
            "justify_content": null,
            "justify_items": null,
            "left": null,
            "margin": null,
            "max_height": null,
            "max_width": null,
            "min_height": null,
            "min_width": null,
            "object_fit": null,
            "object_position": null,
            "order": null,
            "overflow": null,
            "overflow_x": null,
            "overflow_y": null,
            "padding": null,
            "right": null,
            "top": null,
            "visibility": null,
            "width": null
          }
        },
        "b3436376cdec4e04b101731fc35d75a0": {
          "model_module": "@jupyter-widgets/controls",
          "model_name": "DescriptionStyleModel",
          "model_module_version": "1.5.0",
          "state": {
            "_model_module": "@jupyter-widgets/controls",
            "_model_module_version": "1.5.0",
            "_model_name": "DescriptionStyleModel",
            "_view_count": null,
            "_view_module": "@jupyter-widgets/base",
            "_view_module_version": "1.2.0",
            "_view_name": "StyleView",
            "description_width": ""
          }
        }
      }
    }
  },
  "cells": [
    {
      "cell_type": "markdown",
      "source": [
        "# creating dataset using github repo"
      ],
      "metadata": {
        "id": "US8mtNkDNR8M"
      }
    },
    {
      "cell_type": "markdown",
      "source": [
        "Credits to: [alessandro1802](https://github.com/alessandro1802) for the repo: [page-recommender-system](https://github.com/alessandro1802/page-recommender-system), <br>\n",
        "Where I found a lot of [Wikipedia](https://en.wikipedia.org/wiki/Wiki) pages scraped into txt files."
      ],
      "metadata": {
        "id": "6Oj1rjU8dv87"
      }
    },
    {
      "cell_type": "code",
      "execution_count": 1,
      "metadata": {
        "id": "30dsC15tM71O"
      },
      "outputs": [],
      "source": [
        "import requests\n",
        "from tqdm.auto import tqdm\n",
        "import string\n",
        "import re"
      ]
    },
    {
      "cell_type": "code",
      "source": [
        "# provide values for the target github location containing data files\n",
        "user = '<provide value>'\n",
        "repo_name = '<provide value>'\n",
        "path_to_file = '<provide value>'"
      ],
      "metadata": {
        "id": "sXEuqDOXNeLD"
      },
      "execution_count": 2,
      "outputs": []
    },
    {
      "cell_type": "code",
      "source": [
        "# entering a target github repo containing scraped wikipedia pages\n",
        "# credits: https://github.com/alessandro1802/page-recommender-system\n",
        "user = 'alessandro1802'\n",
        "repo_name = 'page-recommender-system'\n",
        "path_to_file = 'database'"
      ],
      "metadata": {
        "id": "97gjR69dNyeF"
      },
      "execution_count": 3,
      "outputs": []
    },
    {
      "cell_type": "code",
      "source": [
        "# get list of files in dataset\n",
        "url = f'''https://api.github.com/repos/{user}/{repo_name}/contents/{path_to_file}'''\n",
        "print(url)\n",
        "content = {}\n",
        "res = requests.get(url)\n",
        "if res.status_code == requests.codes.ok:\n",
        "    content = res.json()\n",
        "    print('Content fetched successfully!')\n",
        "else:\n",
        "    print('Content was not found!')"
      ],
      "metadata": {
        "colab": {
          "base_uri": "https://localhost:8080/"
        },
        "id": "ML0x6L1xNZgw",
        "outputId": "33448a8d-4aef-4a0b-e157-d16cc147d3ab"
      },
      "execution_count": 4,
      "outputs": [
        {
          "output_type": "stream",
          "name": "stdout",
          "text": [
            "https://api.github.com/repos/alessandro1802/page-recommender-system/contents/database\n",
            "Content fetched successfully!\n"
          ]
        }
      ]
    },
    {
      "cell_type": "code",
      "source": [
        "# extracting relevant information in a dict\n",
        "data_file_sources = []\n",
        "for data in content:\n",
        "    # print(data['name'], data['download_url'])\n",
        "    data_file_sources.append({\n",
        "        'name': data['name'],\n",
        "        'url': data['download_url']\n",
        "    })"
      ],
      "metadata": {
        "id": "m7OEbtVZOaCN"
      },
      "execution_count": 5,
      "outputs": []
    },
    {
      "cell_type": "code",
      "source": [
        "# let's take a look at the dict\n",
        "print(len(data_file_sources))\n",
        "print(data_file_sources[:1])"
      ],
      "metadata": {
        "colab": {
          "base_uri": "https://localhost:8080/"
        },
        "id": "-5lUBvnxPx-j",
        "outputId": "41ae2638-19f6-4bf8-88b2-9ed9c1c2fa28"
      },
      "execution_count": 6,
      "outputs": [
        {
          "output_type": "stream",
          "name": "stdout",
          "text": [
            "1000\n",
            "[{'name': '1-59337-652-9.txt', 'url': 'https://raw.githubusercontent.com/alessandro1802/page-recommender-system/main/database/1-59337-652-9.txt'}]\n"
          ]
        }
      ]
    },
    {
      "cell_type": "code",
      "source": [
        "# let's try to fetch the file content for the first file in the dataset\n",
        "res = requests.get(data_file_sources[0]['url'])\n",
        "content = res.text\n",
        "text_data = '\\n'.join(content.splitlines()[1:])\n",
        "print(text_data[:100])"
      ],
      "metadata": {
        "colab": {
          "base_uri": "https://localhost:8080/"
        },
        "id": "f_bpv2SjRW8h",
        "outputId": "edd88870-6722-48f3-c627-806546e57b9d"
      },
      "execution_count": 7,
      "outputs": [
        {
          "output_type": "stream",
          "name": "stdout",
          "text": [
            "This page allows users to search multiple sources for a book given a 10- or 13-digit International S\n"
          ]
        }
      ]
    },
    {
      "cell_type": "code",
      "source": [
        "%%time\n",
        "# now let's fetch all the text data from all the files\n",
        "raw_text_dataset = ''\n",
        "for data in tqdm(data_file_sources):\n",
        "    res = requests.get(data['url'])\n",
        "    if res.status_code == requests.codes.ok:\n",
        "        content = res.text\n",
        "        text_data = '\\n'.join(content.splitlines()[1:])\n",
        "        raw_text_dataset += text_data + '\\n\\n'\n",
        "    else:\n",
        "        print(\"error fetching data from:\", data['url'])"
      ],
      "metadata": {
        "colab": {
          "base_uri": "https://localhost:8080/",
          "height": 84,
          "referenced_widgets": [
            "7e98b2c5b40041d489f5728ca7aea995",
            "66a6a1ec01744f5fa3c598d752b656c6",
            "50aff824666a4d0fa8d253918923a6b9",
            "4212c2df7ff64313a6ca9c95d3b44a6f",
            "0903b561c01743baa3ce5b998a0fcd45",
            "7963835f424046e3a219d1dced618929",
            "e58bada113be481685060dd3068831c9",
            "522809f5924d4c39b45b58c9e5134b5c",
            "759b6b0a2bf74fee94bb4d76de8dbb62",
            "bf3b28c926f04649b73c6c3ee70c187a",
            "b3436376cdec4e04b101731fc35d75a0"
          ]
        },
        "id": "r-cG76TbQ7FR",
        "outputId": "0465ee78-0d79-4301-938c-0a37b8a173d7"
      },
      "execution_count": 8,
      "outputs": [
        {
          "output_type": "display_data",
          "data": {
            "text/plain": [
              "  0%|          | 0/1000 [00:00<?, ?it/s]"
            ],
            "application/vnd.jupyter.widget-view+json": {
              "version_major": 2,
              "version_minor": 0,
              "model_id": "7e98b2c5b40041d489f5728ca7aea995"
            }
          },
          "metadata": {}
        },
        {
          "output_type": "stream",
          "name": "stdout",
          "text": [
            "CPU times: user 23 s, sys: 16.4 s, total: 39.4 s\n",
            "Wall time: 3min 42s\n"
          ]
        }
      ]
    },
    {
      "cell_type": "code",
      "source": [
        "# length of dataset in characters\n",
        "print(\"number of characters                 :\", len(raw_text_dataset))\n",
        "print(\"number of words using split          :\", len(raw_text_dataset.split()))\n",
        "print(\"number of words using regex w+       :\", len(re.findall(r'\\w+', raw_text_dataset)))\n",
        "print(\"number of words without punctuations :\", sum([i.strip(string.punctuation).isalpha() for i in raw_text_dataset.split()]))\n",
        "\n",
        "# let's look at first 100 characters\n",
        "print(\"first 100 characters:\", raw_text_dataset[:100])"
      ],
      "metadata": {
        "colab": {
          "base_uri": "https://localhost:8080/"
        },
        "id": "I4cePcRSWCmy",
        "outputId": "a701b19a-3192-471b-b8d7-3d4304740b9e"
      },
      "execution_count": 9,
      "outputs": [
        {
          "output_type": "stream",
          "name": "stdout",
          "text": [
            "number of characters                 : 15795757\n",
            "number of words using split          : 2438937\n",
            "number of words using regex w+       : 2547081\n",
            "number of words without punctuations : 2279952\n",
            "first 100 characters: This page allows users to search multiple sources for a book given a 10- or 13-digit International S\n"
          ]
        }
      ]
    },
    {
      "cell_type": "code",
      "source": [
        "# export and dump contents into a txt file\n",
        "with open('raw-text-data.txt', 'w', encoding='utf-8') as f:\n",
        "    f.write(raw_text_dataset)"
      ],
      "metadata": {
        "id": "5pOJTyP3YqdP"
      },
      "execution_count": 10,
      "outputs": []
    },
    {
      "cell_type": "code",
      "source": [],
      "metadata": {
        "id": "TeuOhvAEYzZM"
      },
      "execution_count": 10,
      "outputs": []
    }
  ]
}