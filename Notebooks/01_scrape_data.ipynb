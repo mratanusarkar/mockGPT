{
  "nbformat": 4,
  "nbformat_minor": 0,
  "metadata": {
    "colab": {
      "provenance": [],
      "authorship_tag": "ABX9TyPfWRjObCwfbcW8MUE5ioMp",
      "include_colab_link": true
    },
    "kernelspec": {
      "name": "python3",
      "display_name": "Python 3"
    },
    "language_info": {
      "name": "python"
    },
    "widgets": {
      "application/vnd.jupyter.widget-state+json": {
        "0e0c1ee616bc4c3d9bc7366072b91dbd": {
          "model_module": "@jupyter-widgets/controls",
          "model_name": "HBoxModel",
          "model_module_version": "1.5.0",
          "state": {
            "_dom_classes": [],
            "_model_module": "@jupyter-widgets/controls",
            "_model_module_version": "1.5.0",
            "_model_name": "HBoxModel",
            "_view_count": null,
            "_view_module": "@jupyter-widgets/controls",
            "_view_module_version": "1.5.0",
            "_view_name": "HBoxView",
            "box_style": "",
            "children": [
              "IPY_MODEL_ee4a75474d3a438ea046c9d532562576",
              "IPY_MODEL_1c4842672f0f4a04b5fb297af9d584b8",
              "IPY_MODEL_c4c927fdec924261b20930877ca14d7b"
            ],
            "layout": "IPY_MODEL_86ab927287c642ab9f3ccc6e8cee6cf6"
          }
        },
        "ee4a75474d3a438ea046c9d532562576": {
          "model_module": "@jupyter-widgets/controls",
          "model_name": "HTMLModel",
          "model_module_version": "1.5.0",
          "state": {
            "_dom_classes": [],
            "_model_module": "@jupyter-widgets/controls",
            "_model_module_version": "1.5.0",
            "_model_name": "HTMLModel",
            "_view_count": null,
            "_view_module": "@jupyter-widgets/controls",
            "_view_module_version": "1.5.0",
            "_view_name": "HTMLView",
            "description": "",
            "description_tooltip": null,
            "layout": "IPY_MODEL_418c7afe6d674e179ada06f06d0f799a",
            "placeholder": "​",
            "style": "IPY_MODEL_4ab9a84edc554680805be9bcb6db44c4",
            "value": "100%"
          }
        },
        "1c4842672f0f4a04b5fb297af9d584b8": {
          "model_module": "@jupyter-widgets/controls",
          "model_name": "FloatProgressModel",
          "model_module_version": "1.5.0",
          "state": {
            "_dom_classes": [],
            "_model_module": "@jupyter-widgets/controls",
            "_model_module_version": "1.5.0",
            "_model_name": "FloatProgressModel",
            "_view_count": null,
            "_view_module": "@jupyter-widgets/controls",
            "_view_module_version": "1.5.0",
            "_view_name": "ProgressView",
            "bar_style": "success",
            "description": "",
            "description_tooltip": null,
            "layout": "IPY_MODEL_8f61fc5d42c64176b8d83eeada814857",
            "max": 1000,
            "min": 0,
            "orientation": "horizontal",
            "style": "IPY_MODEL_d80c8a4f0c3740c0ae2a5fb875877996",
            "value": 1000
          }
        },
        "c4c927fdec924261b20930877ca14d7b": {
          "model_module": "@jupyter-widgets/controls",
          "model_name": "HTMLModel",
          "model_module_version": "1.5.0",
          "state": {
            "_dom_classes": [],
            "_model_module": "@jupyter-widgets/controls",
            "_model_module_version": "1.5.0",
            "_model_name": "HTMLModel",
            "_view_count": null,
            "_view_module": "@jupyter-widgets/controls",
            "_view_module_version": "1.5.0",
            "_view_name": "HTMLView",
            "description": "",
            "description_tooltip": null,
            "layout": "IPY_MODEL_759907aa54cb4926a216ed83133a2a7c",
            "placeholder": "​",
            "style": "IPY_MODEL_a8a575504f4a4d6cad9310d476789aff",
            "value": " 1000/1000 [02:30&lt;00:00,  5.49it/s]"
          }
        },
        "86ab927287c642ab9f3ccc6e8cee6cf6": {
          "model_module": "@jupyter-widgets/base",
          "model_name": "LayoutModel",
          "model_module_version": "1.2.0",
          "state": {
            "_model_module": "@jupyter-widgets/base",
            "_model_module_version": "1.2.0",
            "_model_name": "LayoutModel",
            "_view_count": null,
            "_view_module": "@jupyter-widgets/base",
            "_view_module_version": "1.2.0",
            "_view_name": "LayoutView",
            "align_content": null,
            "align_items": null,
            "align_self": null,
            "border": null,
            "bottom": null,
            "display": null,
            "flex": null,
            "flex_flow": null,
            "grid_area": null,
            "grid_auto_columns": null,
            "grid_auto_flow": null,
            "grid_auto_rows": null,
            "grid_column": null,
            "grid_gap": null,
            "grid_row": null,
            "grid_template_areas": null,
            "grid_template_columns": null,
            "grid_template_rows": null,
            "height": null,
            "justify_content": null,
            "justify_items": null,
            "left": null,
            "margin": null,
            "max_height": null,
            "max_width": null,
            "min_height": null,
            "min_width": null,
            "object_fit": null,
            "object_position": null,
            "order": null,
            "overflow": null,
            "overflow_x": null,
            "overflow_y": null,
            "padding": null,
            "right": null,
            "top": null,
            "visibility": null,
            "width": null
          }
        },
        "418c7afe6d674e179ada06f06d0f799a": {
          "model_module": "@jupyter-widgets/base",
          "model_name": "LayoutModel",
          "model_module_version": "1.2.0",
          "state": {
            "_model_module": "@jupyter-widgets/base",
            "_model_module_version": "1.2.0",
            "_model_name": "LayoutModel",
            "_view_count": null,
            "_view_module": "@jupyter-widgets/base",
            "_view_module_version": "1.2.0",
            "_view_name": "LayoutView",
            "align_content": null,
            "align_items": null,
            "align_self": null,
            "border": null,
            "bottom": null,
            "display": null,
            "flex": null,
            "flex_flow": null,
            "grid_area": null,
            "grid_auto_columns": null,
            "grid_auto_flow": null,
            "grid_auto_rows": null,
            "grid_column": null,
            "grid_gap": null,
            "grid_row": null,
            "grid_template_areas": null,
            "grid_template_columns": null,
            "grid_template_rows": null,
            "height": null,
            "justify_content": null,
            "justify_items": null,
            "left": null,
            "margin": null,
            "max_height": null,
            "max_width": null,
            "min_height": null,
            "min_width": null,
            "object_fit": null,
            "object_position": null,
            "order": null,
            "overflow": null,
            "overflow_x": null,
            "overflow_y": null,
            "padding": null,
            "right": null,
            "top": null,
            "visibility": null,
            "width": null
          }
        },
        "4ab9a84edc554680805be9bcb6db44c4": {
          "model_module": "@jupyter-widgets/controls",
          "model_name": "DescriptionStyleModel",
          "model_module_version": "1.5.0",
          "state": {
            "_model_module": "@jupyter-widgets/controls",
            "_model_module_version": "1.5.0",
            "_model_name": "DescriptionStyleModel",
            "_view_count": null,
            "_view_module": "@jupyter-widgets/base",
            "_view_module_version": "1.2.0",
            "_view_name": "StyleView",
            "description_width": ""
          }
        },
        "8f61fc5d42c64176b8d83eeada814857": {
          "model_module": "@jupyter-widgets/base",
          "model_name": "LayoutModel",
          "model_module_version": "1.2.0",
          "state": {
            "_model_module": "@jupyter-widgets/base",
            "_model_module_version": "1.2.0",
            "_model_name": "LayoutModel",
            "_view_count": null,
            "_view_module": "@jupyter-widgets/base",
            "_view_module_version": "1.2.0",
            "_view_name": "LayoutView",
            "align_content": null,
            "align_items": null,
            "align_self": null,
            "border": null,
            "bottom": null,
            "display": null,
            "flex": null,
            "flex_flow": null,
            "grid_area": null,
            "grid_auto_columns": null,
            "grid_auto_flow": null,
            "grid_auto_rows": null,
            "grid_column": null,
            "grid_gap": null,
            "grid_row": null,
            "grid_template_areas": null,
            "grid_template_columns": null,
            "grid_template_rows": null,
            "height": null,
            "justify_content": null,
            "justify_items": null,
            "left": null,
            "margin": null,
            "max_height": null,
            "max_width": null,
            "min_height": null,
            "min_width": null,
            "object_fit": null,
            "object_position": null,
            "order": null,
            "overflow": null,
            "overflow_x": null,
            "overflow_y": null,
            "padding": null,
            "right": null,
            "top": null,
            "visibility": null,
            "width": null
          }
        },
        "d80c8a4f0c3740c0ae2a5fb875877996": {
          "model_module": "@jupyter-widgets/controls",
          "model_name": "ProgressStyleModel",
          "model_module_version": "1.5.0",
          "state": {
            "_model_module": "@jupyter-widgets/controls",
            "_model_module_version": "1.5.0",
            "_model_name": "ProgressStyleModel",
            "_view_count": null,
            "_view_module": "@jupyter-widgets/base",
            "_view_module_version": "1.2.0",
            "_view_name": "StyleView",
            "bar_color": null,
            "description_width": ""
          }
        },
        "759907aa54cb4926a216ed83133a2a7c": {
          "model_module": "@jupyter-widgets/base",
          "model_name": "LayoutModel",
          "model_module_version": "1.2.0",
          "state": {
            "_model_module": "@jupyter-widgets/base",
            "_model_module_version": "1.2.0",
            "_model_name": "LayoutModel",
            "_view_count": null,
            "_view_module": "@jupyter-widgets/base",
            "_view_module_version": "1.2.0",
            "_view_name": "LayoutView",
            "align_content": null,
            "align_items": null,
            "align_self": null,
            "border": null,
            "bottom": null,
            "display": null,
            "flex": null,
            "flex_flow": null,
            "grid_area": null,
            "grid_auto_columns": null,
            "grid_auto_flow": null,
            "grid_auto_rows": null,
            "grid_column": null,
            "grid_gap": null,
            "grid_row": null,
            "grid_template_areas": null,
            "grid_template_columns": null,
            "grid_template_rows": null,
            "height": null,
            "justify_content": null,
            "justify_items": null,
            "left": null,
            "margin": null,
            "max_height": null,
            "max_width": null,
            "min_height": null,
            "min_width": null,
            "object_fit": null,
            "object_position": null,
            "order": null,
            "overflow": null,
            "overflow_x": null,
            "overflow_y": null,
            "padding": null,
            "right": null,
            "top": null,
            "visibility": null,
            "width": null
          }
        },
        "a8a575504f4a4d6cad9310d476789aff": {
          "model_module": "@jupyter-widgets/controls",
          "model_name": "DescriptionStyleModel",
          "model_module_version": "1.5.0",
          "state": {
            "_model_module": "@jupyter-widgets/controls",
            "_model_module_version": "1.5.0",
            "_model_name": "DescriptionStyleModel",
            "_view_count": null,
            "_view_module": "@jupyter-widgets/base",
            "_view_module_version": "1.2.0",
            "_view_name": "StyleView",
            "description_width": ""
          }
        }
      }
    }
  },
  "cells": [
    {
      "cell_type": "markdown",
      "metadata": {
        "id": "view-in-github",
        "colab_type": "text"
      },
      "source": [
        "<a href=\"https://colab.research.google.com/github/mratanusarkar/mockGPT/blob/learning/Notebooks/01_scrape_data.ipynb\" target=\"_parent\"><img src=\"https://colab.research.google.com/assets/colab-badge.svg\" alt=\"Open In Colab\"/></a>"
      ]
    },
    {
      "cell_type": "markdown",
      "source": [
        "# creating dataset using github repo"
      ],
      "metadata": {
        "id": "US8mtNkDNR8M"
      }
    },
    {
      "cell_type": "markdown",
      "source": [
        "Credits to: [alessandro1802](https://github.com/alessandro1802) for the repo: [page-recommender-system](https://github.com/alessandro1802/page-recommender-system), <br>\n",
        "Where I found a lot of [Wikipedia](https://en.wikipedia.org/wiki/Wiki) pages scraped into txt files."
      ],
      "metadata": {
        "id": "6Oj1rjU8dv87"
      }
    },
    {
      "cell_type": "code",
      "execution_count": 1,
      "metadata": {
        "id": "30dsC15tM71O"
      },
      "outputs": [],
      "source": [
        "import requests\n",
        "from tqdm.auto import tqdm\n",
        "import string\n",
        "import re"
      ]
    },
    {
      "cell_type": "code",
      "source": [
        "# provide values for the target github location containing data files\n",
        "user = '<provide value>'\n",
        "repo_name = '<provide value>'\n",
        "path_to_file = '<provide value>'"
      ],
      "metadata": {
        "id": "sXEuqDOXNeLD"
      },
      "execution_count": 2,
      "outputs": []
    },
    {
      "cell_type": "code",
      "source": [
        "# entering a target github repo containing scraped wikipedia pages\n",
        "# credits: https://github.com/alessandro1802/page-recommender-system\n",
        "user = 'alessandro1802'\n",
        "repo_name = 'page-recommender-system'\n",
        "path_to_file = 'database'"
      ],
      "metadata": {
        "id": "97gjR69dNyeF"
      },
      "execution_count": 3,
      "outputs": []
    },
    {
      "cell_type": "code",
      "source": [
        "# get list of files in dataset\n",
        "url = f'''https://api.github.com/repos/{user}/{repo_name}/contents/{path_to_file}'''\n",
        "print(url)\n",
        "content = {}\n",
        "res = requests.get(url)\n",
        "if res.status_code == requests.codes.ok:\n",
        "    content = res.json()\n",
        "    print('Content fetched successfully!')\n",
        "else:\n",
        "    print('Content was not found!')"
      ],
      "metadata": {
        "colab": {
          "base_uri": "https://localhost:8080/"
        },
        "id": "ML0x6L1xNZgw",
        "outputId": "4e710575-d19d-421d-9fff-9ec75def30ec"
      },
      "execution_count": 4,
      "outputs": [
        {
          "output_type": "stream",
          "name": "stdout",
          "text": [
            "https://api.github.com/repos/alessandro1802/page-recommender-system/contents/database\n",
            "Content fetched successfully!\n"
          ]
        }
      ]
    },
    {
      "cell_type": "code",
      "source": [
        "# extracting relevant information in a dict\n",
        "data_file_sources = []\n",
        "for data in content:\n",
        "    # print(data['name'], data['download_url'])\n",
        "    data_file_sources.append({\n",
        "        'name': data['name'],\n",
        "        'url': data['download_url']\n",
        "    })"
      ],
      "metadata": {
        "id": "m7OEbtVZOaCN"
      },
      "execution_count": 5,
      "outputs": []
    },
    {
      "cell_type": "code",
      "source": [
        "# let's take a look at the dict\n",
        "print(len(data_file_sources))\n",
        "print(data_file_sources[:1])"
      ],
      "metadata": {
        "colab": {
          "base_uri": "https://localhost:8080/"
        },
        "id": "-5lUBvnxPx-j",
        "outputId": "d3ebe808-0d0f-499e-bd52-7b9b9c17abde"
      },
      "execution_count": 6,
      "outputs": [
        {
          "output_type": "stream",
          "name": "stdout",
          "text": [
            "1000\n",
            "[{'name': '1-59337-652-9.txt', 'url': 'https://raw.githubusercontent.com/alessandro1802/page-recommender-system/main/database/1-59337-652-9.txt'}]\n"
          ]
        }
      ]
    },
    {
      "cell_type": "code",
      "source": [
        "# let's try to fetch the file content for the first file in the dataset\n",
        "res = requests.get(data_file_sources[0]['url'])\n",
        "content = res.text\n",
        "text_data = '\\n'.join(content.splitlines()[1:])\n",
        "print(text_data[:100])"
      ],
      "metadata": {
        "colab": {
          "base_uri": "https://localhost:8080/"
        },
        "id": "f_bpv2SjRW8h",
        "outputId": "fc8fb57e-62ac-46c9-b3ab-717486081f87"
      },
      "execution_count": 7,
      "outputs": [
        {
          "output_type": "stream",
          "name": "stdout",
          "text": [
            "This page allows users to search multiple sources for a book given a 10- or 13-digit International S\n"
          ]
        }
      ]
    },
    {
      "cell_type": "code",
      "source": [
        "%%time\n",
        "# now let's fetch all the text data from all the files\n",
        "raw_text_dataset = ''\n",
        "for data in tqdm(data_file_sources):\n",
        "    res = requests.get(data['url'])\n",
        "    if res.status_code == requests.codes.ok:\n",
        "        content = res.text\n",
        "        text_data = '\\n'.join(content.splitlines()[1:])\n",
        "        raw_text_dataset += text_data + '\\n\\n'\n",
        "    else:\n",
        "        print(\"error fetching data from:\", data['url'])"
      ],
      "metadata": {
        "colab": {
          "base_uri": "https://localhost:8080/",
          "height": 84,
          "referenced_widgets": [
            "0e0c1ee616bc4c3d9bc7366072b91dbd",
            "ee4a75474d3a438ea046c9d532562576",
            "1c4842672f0f4a04b5fb297af9d584b8",
            "c4c927fdec924261b20930877ca14d7b",
            "86ab927287c642ab9f3ccc6e8cee6cf6",
            "418c7afe6d674e179ada06f06d0f799a",
            "4ab9a84edc554680805be9bcb6db44c4",
            "8f61fc5d42c64176b8d83eeada814857",
            "d80c8a4f0c3740c0ae2a5fb875877996",
            "759907aa54cb4926a216ed83133a2a7c",
            "a8a575504f4a4d6cad9310d476789aff"
          ]
        },
        "id": "r-cG76TbQ7FR",
        "outputId": "c6f790b4-fb3e-410f-a707-a5a6869f2c32"
      },
      "execution_count": 8,
      "outputs": [
        {
          "output_type": "display_data",
          "data": {
            "text/plain": [
              "  0%|          | 0/1000 [00:00<?, ?it/s]"
            ],
            "application/vnd.jupyter.widget-view+json": {
              "version_major": 2,
              "version_minor": 0,
              "model_id": "0e0c1ee616bc4c3d9bc7366072b91dbd"
            }
          },
          "metadata": {}
        },
        {
          "output_type": "stream",
          "name": "stdout",
          "text": [
            "CPU times: user 22.6 s, sys: 13 s, total: 35.6 s\n",
            "Wall time: 2min 30s\n"
          ]
        }
      ]
    },
    {
      "cell_type": "code",
      "source": [
        "# length of dataset in characters\n",
        "print(\"number of characters                 :\", len(raw_text_dataset))\n",
        "print(\"number of words using split          :\", len(raw_text_dataset.split()))\n",
        "print(\"number of words using regex w+       :\", len(re.findall(r'\\w+', raw_text_dataset)))\n",
        "print(\"number of words without punctuations :\", sum([i.strip(string.punctuation).isalpha() for i in raw_text_dataset.split()]))"
      ],
      "metadata": {
        "colab": {
          "base_uri": "https://localhost:8080/"
        },
        "id": "I4cePcRSWCmy",
        "outputId": "39f256c1-a83a-44d6-a7f3-73de87ecc220"
      },
      "execution_count": 9,
      "outputs": [
        {
          "output_type": "stream",
          "name": "stdout",
          "text": [
            "number of characters                 : 15795757\n",
            "number of words using split          : 2438937\n",
            "number of words using regex w+       : 2547081\n",
            "number of words without punctuations : 2279952\n"
          ]
        }
      ]
    },
    {
      "cell_type": "code",
      "source": [
        "# let's look at first 100 characters\n",
        "print(raw_text_dataset[:100])"
      ],
      "metadata": {
        "colab": {
          "base_uri": "https://localhost:8080/"
        },
        "id": "5pOJTyP3YqdP",
        "outputId": "1153edad-4a8c-4022-ee73-36318434ff42"
      },
      "execution_count": 10,
      "outputs": [
        {
          "output_type": "stream",
          "name": "stdout",
          "text": [
            "This page allows users to search multiple sources for a book given a 10- or 13-digit International S\n"
          ]
        }
      ]
    },
    {
      "cell_type": "code",
      "source": [],
      "metadata": {
        "id": "TeuOhvAEYzZM"
      },
      "execution_count": 10,
      "outputs": []
    }
  ]
}